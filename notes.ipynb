{
 "cells": [
  {
   "cell_type": "markdown",
   "metadata": {},
   "source": [
    "Web services are normally stateless because http is stateless and it makes it easier to add more servers.\n",
    "\n",
    "We use databases to store states and get them for later."
   ]
  },
  {
   "cell_type": "markdown",
   "metadata": {},
   "source": [
    "An Object Relational Model (ORM), also called an Object Data Model (ODM), is an API in a non-native language to the database that calls CRUD (create-read-update-delete) operations in the database using the serverside language.\n",
    "\n",
    "For MongoDB, Mongoose is the ODM we're using."
   ]
  }
 ],
 "metadata": {
  "language_info": {
   "name": "python"
  }
 },
 "nbformat": 4,
 "nbformat_minor": 2
}
